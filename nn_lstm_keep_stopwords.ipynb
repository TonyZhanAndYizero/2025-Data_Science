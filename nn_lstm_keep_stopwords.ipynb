{
 "cells": [
  {
   "cell_type": "markdown",
   "id": "2c94469b",
   "metadata": {
    "papermill": {
     "duration": 0.004299,
     "end_time": "2025-04-26T11:19:58.798374",
     "exception": false,
     "start_time": "2025-04-26T11:19:58.794075",
     "status": "completed"
    },
    "tags": []
   },
   "source": [
    "# 检查数据集是否下载成功"
   ]
  },
  {
   "cell_type": "code",
   "execution_count": 1,
   "id": "86a61c92",
   "metadata": {
    "_cell_guid": "b1076dfc-b9ad-4769-8c92-a6c4dae69d19",
    "_uuid": "8f2839f25d086af736a60e9eeb907d3b93b6e0e5",
    "execution": {
     "iopub.execute_input": "2025-04-26T11:19:58.806574Z",
     "iopub.status.busy": "2025-04-26T11:19:58.806316Z",
     "iopub.status.idle": "2025-04-26T11:20:16.941480Z",
     "shell.execute_reply": "2025-04-26T11:20:16.940880Z"
    },
    "papermill": {
     "duration": 18.141011,
     "end_time": "2025-04-26T11:20:16.943018",
     "exception": false,
     "start_time": "2025-04-26T11:19:58.802007",
     "status": "completed"
    },
    "tags": []
   },
   "outputs": [
    {
     "name": "stdout",
     "output_type": "stream",
     "text": [
      "./dataset/AI_Human.csv\n"
     ]
    }
   ],
   "source": [
    "import numpy as np\n",
    "import pandas as pd\n",
    "import os\n",
    "\n",
    "for dirname, _, filenames in os.walk(\"./dataset\"):\n",
    "    for filename in filenames:\n",
    "        print(os.path.join(dirname, filename))"
   ]
  },
  {
   "cell_type": "markdown",
   "id": "3099509c",
   "metadata": {
    "papermill": {
     "duration": 0.003437,
     "end_time": "2025-04-26T11:20:16.950374",
     "exception": false,
     "start_time": "2025-04-26T11:20:16.946937",
     "status": "completed"
    },
    "tags": []
   },
   "source": [
    "# 读入数据"
   ]
  },
  {
   "cell_type": "code",
   "execution_count": 2,
   "id": "c4c15a76",
   "metadata": {
    "execution": {
     "iopub.execute_input": "2025-04-26T11:20:16.958550Z",
     "iopub.status.busy": "2025-04-26T11:20:16.957823Z",
     "iopub.status.idle": "2025-04-26T11:20:40.364391Z",
     "shell.execute_reply": "2025-04-26T11:20:40.363600Z"
    },
    "papermill": {
     "duration": 23.411883,
     "end_time": "2025-04-26T11:20:40.365640",
     "exception": false,
     "start_time": "2025-04-26T11:20:16.953757",
     "status": "completed"
    },
    "tags": []
   },
   "outputs": [
    {
     "data": {
      "text/html": [
       "<div>\n",
       "<style scoped>\n",
       "    .dataframe tbody tr th:only-of-type {\n",
       "        vertical-align: middle;\n",
       "    }\n",
       "\n",
       "    .dataframe tbody tr th {\n",
       "        vertical-align: top;\n",
       "    }\n",
       "\n",
       "    .dataframe thead th {\n",
       "        text-align: right;\n",
       "    }\n",
       "</style>\n",
       "<table border=\"1\" class=\"dataframe\">\n",
       "  <thead>\n",
       "    <tr style=\"text-align: right;\">\n",
       "      <th></th>\n",
       "      <th>text</th>\n",
       "      <th>generated</th>\n",
       "    </tr>\n",
       "  </thead>\n",
       "  <tbody>\n",
       "    <tr>\n",
       "      <th>0</th>\n",
       "      <td>Cars. Cars have been around since they became ...</td>\n",
       "      <td>0.0</td>\n",
       "    </tr>\n",
       "    <tr>\n",
       "      <th>1</th>\n",
       "      <td>Transportation is a large necessity in most co...</td>\n",
       "      <td>0.0</td>\n",
       "    </tr>\n",
       "    <tr>\n",
       "      <th>2</th>\n",
       "      <td>\"America's love affair with it's vehicles seem...</td>\n",
       "      <td>0.0</td>\n",
       "    </tr>\n",
       "    <tr>\n",
       "      <th>3</th>\n",
       "      <td>How often do you ride in a car? Do you drive a...</td>\n",
       "      <td>0.0</td>\n",
       "    </tr>\n",
       "    <tr>\n",
       "      <th>4</th>\n",
       "      <td>Cars are a wonderful thing. They are perhaps o...</td>\n",
       "      <td>0.0</td>\n",
       "    </tr>\n",
       "  </tbody>\n",
       "</table>\n",
       "</div>"
      ],
      "text/plain": [
       "                                                text  generated\n",
       "0  Cars. Cars have been around since they became ...        0.0\n",
       "1  Transportation is a large necessity in most co...        0.0\n",
       "2  \"America's love affair with it's vehicles seem...        0.0\n",
       "3  How often do you ride in a car? Do you drive a...        0.0\n",
       "4  Cars are a wonderful thing. They are perhaps o...        0.0"
      ]
     },
     "execution_count": 2,
     "metadata": {},
     "output_type": "execute_result"
    }
   ],
   "source": [
    "import pandas as pd\n",
    "import numpy as np\n",
    "\n",
    "df = pd.read_csv(\"./dataset/AI_Human.csv\")\n",
    "df.head()"
   ]
  },
  {
   "cell_type": "markdown",
   "id": "2dcc5246",
   "metadata": {
    "papermill": {
     "duration": 0.003943,
     "end_time": "2025-04-26T11:20:40.374130",
     "exception": false,
     "start_time": "2025-04-26T11:20:40.370187",
     "status": "completed"
    },
    "tags": []
   },
   "source": [
    "# 基本数据信息"
   ]
  },
  {
   "cell_type": "code",
   "execution_count": 3,
   "id": "36b813ff",
   "metadata": {
    "execution": {
     "iopub.execute_input": "2025-04-26T11:20:40.382814Z",
     "iopub.status.busy": "2025-04-26T11:20:40.382548Z",
     "iopub.status.idle": "2025-04-26T11:20:40.705154Z",
     "shell.execute_reply": "2025-04-26T11:20:40.704536Z"
    },
    "papermill": {
     "duration": 0.328369,
     "end_time": "2025-04-26T11:20:40.706470",
     "exception": false,
     "start_time": "2025-04-26T11:20:40.378101",
     "status": "completed"
    },
    "tags": []
   },
   "outputs": [
    {
     "name": "stdout",
     "output_type": "stream",
     "text": [
      "<class 'pandas.core.frame.DataFrame'>\n",
      "RangeIndex: 487235 entries, 0 to 487234\n",
      "Data columns (total 2 columns):\n",
      " #   Column     Non-Null Count   Dtype  \n",
      "---  ------     --------------   -----  \n",
      " 0   text       487235 non-null  object \n",
      " 1   generated  487235 non-null  float64\n",
      "dtypes: float64(1), object(1)\n",
      "memory usage: 7.4+ MB\n",
      "None\n",
      "=============================================================================\n",
      "Total Texts: 487235\n",
      "Human Written Texts: 305797\n",
      "AI Generated Texts: 181438\n"
     ]
    },
    {
     "data": {
      "image/png": "[encoded data removed]",
      "text/plain": [
       "<Figure size 600x400 with 1 Axes>"
      ]
     },
     "metadata": {},
     "output_type": "display_data"
    }
   ],
   "source": [
    "import matplotlib.pyplot as plt\n",
    "\n",
    "# 基本信息输出\n",
    "print(df.info())\n",
    "print(\"=============================================================================\")\n",
    "\n",
    "# 统计数据\n",
    "total_texts = df[\"generated\"].count()\n",
    "human_texts = (df[\"generated\"] == 0.0).sum()\n",
    "ai_texts = (df[\"generated\"] == 1.0).sum()\n",
    "\n",
    "print(\"Total Texts:\", total_texts)\n",
    "print(\"Human Written Texts:\", human_texts)\n",
    "print(\"AI Generated Texts:\", ai_texts)\n",
    "\n",
    "# 用 matplotlib 绘制条形图\n",
    "labels = [\"Human Written\", \"AI Generated\"]\n",
    "counts = [human_texts, ai_texts]\n",
    "\n",
    "plt.figure(figsize=(6, 4))\n",
    "plt.bar(labels, counts)\n",
    "plt.title(\"Distribution of Text Types\")\n",
    "plt.xlabel(\"Text Type\")\n",
    "plt.ylabel(\"Count\")\n",
    "plt.grid(axis=\"y\", linestyle=\"--\", alpha=0.7)\n",
    "plt.tight_layout()\n",
    "plt.show()"
   ]
  },
  {
   "cell_type": "markdown",
   "id": "c6a901fa",
   "metadata": {
    "papermill": {
     "duration": 0.003676,
     "end_time": "2025-04-26T11:20:40.714290",
     "exception": false,
     "start_time": "2025-04-26T11:20:40.710614",
     "status": "completed"
    },
    "tags": []
   },
   "source": [
    "# 数据预处理"
   ]
  },
  {
   "cell_type": "code",
   "execution_count": 4,
   "id": "5e2940d3",
   "metadata": {},
   "outputs": [
    {
     "data": {
      "text/plain": [
       "'Cars. Cars have been around since they became famous in the 1900s, when Henry Ford created and built the first ModelT. Cars have played a major role in our every day lives since then. But now, people are starting to question if limiting car usage would be a good thing. To me, limiting the use of cars might be a good thing to do.\\n\\nIn like matter of this, article, \"In German Suburb, Life Goes On Without Cars,\" by Elizabeth Rosenthal states, how automobiles are the linchpin of suburbs, where middle class families from either Shanghai or Chicago tend to make their homes. Experts say how this is a huge impediment to current efforts to reduce greenhouse gas emissions from tailpipe. Passenger cars are responsible for 12 percent of greenhouse gas emissions in Europe...and up to 50 percent in some carintensive areas in the United States. Cars are the main reason for the greenhouse gas emissions because of a lot of people driving them around all the time getting where they need to go. Article, \"Paris bans driving due to smog,\" by Robert Duffer says, how Paris, after days of nearrecord pollution, enforced a partial driving ban to clear the air of the global city. It also says, how on Monday, motorist with evennumbered license plates were ordered to leave their cars at home or be fined a 22euro fine 31. The same order would be applied to oddnumbered plates the following day. Cars are the reason for polluting entire cities like Paris. This shows how bad cars can be because, of all the pollution that they can cause to an entire city.\\n\\nLikewise, in the article, \"Carfree day is spinning into a big hit in Bogota,\" by Andrew Selsky says, how programs that\\'s set to spread to other countries, millions of Columbians hiked, biked, skated, or took the bus to work during a carfree day, leaving streets of this capital city eerily devoid of traffic jams. It was the third straight year cars have been banned with only buses and taxis permitted for the Day Without Cars in the capital city of 7 million. People like the idea of having carfree days because, it allows them to lesson the pollution that cars put out of their exhaust from people driving all the time. The article also tells how parks and sports centers have bustled throughout the city uneven, pitted sidewalks have been replaced by broad, smooth sidewalks rushhour restrictions have dramatically cut traffic and new restaurants and upscale shopping districts have cropped up. Having no cars has been good for the country of Columbia because, it has aloud them to repair things that have needed repairs for a long time, traffic jams have gone down, and restaurants and shopping districts have popped up, all due to the fact of having less cars around.\\n\\nIn conclusion, the use of less cars and having carfree days, have had a big impact on the environment of cities because, it is cutting down the air pollution that the cars have majorly polluted, it has aloud countries like Columbia to repair sidewalks, and cut down traffic jams. Limiting the use of cars would be a good thing for America. So we should limit the use of cars by maybe riding a bike, or maybe walking somewhere that isn\\'t that far from you and doesn\\'t need the use of a car to get you there. To me, limiting the use of cars might be a good thing to do.'"
      ]
     },
     "execution_count": 4,
     "metadata": {},
     "output_type": "execute_result"
    }
   ],
   "source": [
    "# 展示其中一个示例条目\n",
    "df['text'][0]"
   ]
  },
  {
   "cell_type": "code",
   "execution_count": 5,
   "id": "68fa8948",
   "metadata": {},
   "outputs": [
    {
     "data": {
      "text/plain": [
       "['cars.',\n",
       " 'cars',\n",
       " 'have',\n",
       " 'been',\n",
       " 'around',\n",
       " 'since',\n",
       " 'they',\n",
       " 'became',\n",
       " 'famous',\n",
       " 'in',\n",
       " 'the',\n",
       " '1900s,',\n",
       " 'when',\n",
       " 'henry',\n",
       " 'ford',\n",
       " 'created',\n",
       " 'and',\n",
       " 'built',\n",
       " 'the',\n",
       " 'first',\n",
       " 'modelt.',\n",
       " 'cars',\n",
       " 'have',\n",
       " 'played',\n",
       " 'a',\n",
       " 'major',\n",
       " 'role',\n",
       " 'in',\n",
       " 'our',\n",
       " 'every',\n",
       " 'day',\n",
       " 'lives',\n",
       " 'since',\n",
       " 'then.',\n",
       " 'but',\n",
       " 'now,',\n",
       " 'people',\n",
       " 'are',\n",
       " 'starting',\n",
       " 'to',\n",
       " 'question',\n",
       " 'if',\n",
       " 'limiting',\n",
       " 'car',\n",
       " 'usage',\n",
       " 'would',\n",
       " 'be',\n",
       " 'a',\n",
       " 'good',\n",
       " 'thing.',\n",
       " 'to',\n",
       " 'me,',\n",
       " 'limiting',\n",
       " 'the',\n",
       " 'use',\n",
       " 'of',\n",
       " 'cars',\n",
       " 'might',\n",
       " 'be',\n",
       " 'a',\n",
       " 'good',\n",
       " 'thing',\n",
       " 'to',\n",
       " 'do.',\n",
       " 'in',\n",
       " 'like',\n",
       " 'matter',\n",
       " 'of',\n",
       " 'this,',\n",
       " 'article,',\n",
       " '\"in',\n",
       " 'german',\n",
       " 'suburb,',\n",
       " 'life',\n",
       " 'goes',\n",
       " 'on',\n",
       " 'without',\n",
       " 'cars,\"',\n",
       " 'by',\n",
       " 'elizabeth',\n",
       " 'rosenthal',\n",
       " 'states,',\n",
       " 'how',\n",
       " 'automobiles',\n",
       " 'are',\n",
       " 'the',\n",
       " 'linchpin',\n",
       " 'of',\n",
       " 'suburbs,',\n",
       " 'where',\n",
       " 'middle',\n",
       " 'class',\n",
       " 'families',\n",
       " 'from',\n",
       " 'either',\n",
       " 'shanghai',\n",
       " 'or',\n",
       " 'chicago',\n",
       " 'tend',\n",
       " 'to',\n",
       " 'make',\n",
       " 'their',\n",
       " 'homes.',\n",
       " 'experts',\n",
       " 'say',\n",
       " 'how',\n",
       " 'this',\n",
       " 'is',\n",
       " 'a',\n",
       " 'huge',\n",
       " 'impediment',\n",
       " 'to',\n",
       " 'current',\n",
       " 'efforts',\n",
       " 'to',\n",
       " 'reduce',\n",
       " 'greenhouse',\n",
       " 'gas',\n",
       " 'emissions',\n",
       " 'from',\n",
       " 'tailpipe.',\n",
       " 'passenger',\n",
       " 'cars',\n",
       " 'are',\n",
       " 'responsible',\n",
       " 'for',\n",
       " '12',\n",
       " 'percent',\n",
       " 'of',\n",
       " 'greenhouse',\n",
       " 'gas',\n",
       " 'emissions',\n",
       " 'in',\n",
       " 'europe...and',\n",
       " 'up',\n",
       " 'to',\n",
       " '50',\n",
       " 'percent',\n",
       " 'in',\n",
       " 'some',\n",
       " 'carintensive',\n",
       " 'areas',\n",
       " 'in',\n",
       " 'the',\n",
       " 'united',\n",
       " 'states.',\n",
       " 'cars',\n",
       " 'are',\n",
       " 'the',\n",
       " 'main',\n",
       " 'reason',\n",
       " 'for',\n",
       " 'the',\n",
       " 'greenhouse',\n",
       " 'gas',\n",
       " 'emissions',\n",
       " 'because',\n",
       " 'of',\n",
       " 'a',\n",
       " 'lot',\n",
       " 'of',\n",
       " 'people',\n",
       " 'driving',\n",
       " 'them',\n",
       " 'around',\n",
       " 'all',\n",
       " 'the',\n",
       " 'time',\n",
       " 'getting',\n",
       " 'where',\n",
       " 'they',\n",
       " 'need',\n",
       " 'to',\n",
       " 'go.',\n",
       " 'article,',\n",
       " '\"paris',\n",
       " 'bans',\n",
       " 'driving',\n",
       " 'due',\n",
       " 'to',\n",
       " 'smog,\"',\n",
       " 'by',\n",
       " 'robert',\n",
       " 'duffer',\n",
       " 'says,',\n",
       " 'how',\n",
       " 'paris,',\n",
       " 'after',\n",
       " 'days',\n",
       " 'of',\n",
       " 'nearrecord',\n",
       " 'pollution,',\n",
       " 'enforced',\n",
       " 'a',\n",
       " 'partial',\n",
       " 'driving',\n",
       " 'ban',\n",
       " 'to',\n",
       " 'clear',\n",
       " 'the',\n",
       " 'air',\n",
       " 'of',\n",
       " 'the',\n",
       " 'global',\n",
       " 'city.',\n",
       " 'it',\n",
       " 'also',\n",
       " 'says,',\n",
       " 'how',\n",
       " 'on',\n",
       " 'monday,',\n",
       " 'motorist',\n",
       " 'with',\n",
       " 'evennumbered',\n",
       " 'license',\n",
       " 'plates',\n",
       " 'were',\n",
       " 'ordered',\n",
       " 'to',\n",
       " 'leave',\n",
       " 'their',\n",
       " 'cars',\n",
       " 'at',\n",
       " 'home',\n",
       " 'or',\n",
       " 'be',\n",
       " 'fined',\n",
       " 'a',\n",
       " '22euro',\n",
       " 'fine',\n",
       " '31.',\n",
       " 'the',\n",
       " 'same',\n",
       " 'order',\n",
       " 'would',\n",
       " 'be',\n",
       " 'applied',\n",
       " 'to',\n",
       " 'oddnumbered',\n",
       " 'plates',\n",
       " 'the',\n",
       " 'following',\n",
       " 'day.',\n",
       " 'cars',\n",
       " 'are',\n",
       " 'the',\n",
       " 'reason',\n",
       " 'for',\n",
       " 'polluting',\n",
       " 'entire',\n",
       " 'cities',\n",
       " 'like',\n",
       " 'paris.',\n",
       " 'this',\n",
       " 'shows',\n",
       " 'how',\n",
       " 'bad',\n",
       " 'cars',\n",
       " 'can',\n",
       " 'be',\n",
       " 'because,',\n",
       " 'of',\n",
       " 'all',\n",
       " 'the',\n",
       " 'pollution',\n",
       " 'that',\n",
       " 'they',\n",
       " 'can',\n",
       " 'cause',\n",
       " 'to',\n",
       " 'an',\n",
       " 'entire',\n",
       " 'city.',\n",
       " 'likewise,',\n",
       " 'in',\n",
       " 'the',\n",
       " 'article,',\n",
       " '\"carfree',\n",
       " 'day',\n",
       " 'is',\n",
       " 'spinning',\n",
       " 'into',\n",
       " 'a',\n",
       " 'big',\n",
       " 'hit',\n",
       " 'in',\n",
       " 'bogota,\"',\n",
       " 'by',\n",
       " 'andrew',\n",
       " 'selsky',\n",
       " 'says,',\n",
       " 'how',\n",
       " 'programs',\n",
       " \"that's\",\n",
       " 'set',\n",
       " 'to',\n",
       " 'spread',\n",
       " 'to',\n",
       " 'other',\n",
       " 'countries,',\n",
       " 'millions',\n",
       " 'of',\n",
       " 'columbians',\n",
       " 'hiked,',\n",
       " 'biked,',\n",
       " 'skated,',\n",
       " 'or',\n",
       " 'took',\n",
       " 'the',\n",
       " 'bus',\n",
       " 'to',\n",
       " 'work',\n",
       " 'during',\n",
       " 'a',\n",
       " 'carfree',\n",
       " 'day,',\n",
       " 'leaving',\n",
       " 'streets',\n",
       " 'of',\n",
       " 'this',\n",
       " 'capital',\n",
       " 'city',\n",
       " 'eerily',\n",
       " 'devoid',\n",
       " 'of',\n",
       " 'traffic',\n",
       " 'jams.',\n",
       " 'it',\n",
       " 'was',\n",
       " 'the',\n",
       " 'third',\n",
       " 'straight',\n",
       " 'year',\n",
       " 'cars',\n",
       " 'have',\n",
       " 'been',\n",
       " 'banned',\n",
       " 'with',\n",
       " 'only',\n",
       " 'buses',\n",
       " 'and',\n",
       " 'taxis',\n",
       " 'permitted',\n",
       " 'for',\n",
       " 'the',\n",
       " 'day',\n",
       " 'without',\n",
       " 'cars',\n",
       " 'in',\n",
       " 'the',\n",
       " 'capital',\n",
       " 'city',\n",
       " 'of',\n",
       " '7',\n",
       " 'million.',\n",
       " 'people',\n",
       " 'like',\n",
       " 'the',\n",
       " 'idea',\n",
       " 'of',\n",
       " 'having',\n",
       " 'carfree',\n",
       " 'days',\n",
       " 'because,',\n",
       " 'it',\n",
       " 'allows',\n",
       " 'them',\n",
       " 'to',\n",
       " 'lesson',\n",
       " 'the',\n",
       " 'pollution',\n",
       " 'that',\n",
       " 'cars',\n",
       " 'put',\n",
       " 'out',\n",
       " 'of',\n",
       " 'their',\n",
       " 'exhaust',\n",
       " 'from',\n",
       " 'people',\n",
       " 'driving',\n",
       " 'all',\n",
       " 'the',\n",
       " 'time.',\n",
       " 'the',\n",
       " 'article',\n",
       " 'also',\n",
       " 'tells',\n",
       " 'how',\n",
       " 'parks',\n",
       " 'and',\n",
       " 'sports',\n",
       " 'centers',\n",
       " 'have',\n",
       " 'bustled',\n",
       " 'throughout',\n",
       " 'the',\n",
       " 'city',\n",
       " 'uneven,',\n",
       " 'pitted',\n",
       " 'sidewalks',\n",
       " 'have',\n",
       " 'been',\n",
       " 'replaced',\n",
       " 'by',\n",
       " 'broad,',\n",
       " 'smooth',\n",
       " 'sidewalks',\n",
       " 'rushhour',\n",
       " 'restrictions',\n",
       " 'have',\n",
       " 'dramatically',\n",
       " 'cut',\n",
       " 'traffic',\n",
       " 'and',\n",
       " 'new',\n",
       " 'restaurants',\n",
       " 'and',\n",
       " 'upscale',\n",
       " 'shopping',\n",
       " 'districts',\n",
       " 'have',\n",
       " 'cropped',\n",
       " 'up.',\n",
       " 'having',\n",
       " 'no',\n",
       " 'cars',\n",
       " 'has',\n",
       " 'been',\n",
       " 'good',\n",
       " 'for',\n",
       " 'the',\n",
       " 'country',\n",
       " 'of',\n",
       " 'columbia',\n",
       " 'because,',\n",
       " 'it',\n",
       " 'has',\n",
       " 'aloud',\n",
       " 'them',\n",
       " 'to',\n",
       " 'repair',\n",
       " 'things',\n",
       " 'that',\n",
       " 'have',\n",
       " 'needed',\n",
       " 'repairs',\n",
       " 'for',\n",
       " 'a',\n",
       " 'long',\n",
       " 'time,',\n",
       " 'traffic',\n",
       " 'jams',\n",
       " 'have',\n",
       " 'gone',\n",
       " 'down,',\n",
       " 'and',\n",
       " 'restaurants',\n",
       " 'and',\n",
       " 'shopping',\n",
       " 'districts',\n",
       " 'have',\n",
       " 'popped',\n",
       " 'up,',\n",
       " 'all',\n",
       " 'due',\n",
       " 'to',\n",
       " 'the',\n",
       " 'fact',\n",
       " 'of',\n",
       " 'having',\n",
       " 'less',\n",
       " 'cars',\n",
       " 'around.',\n",
       " 'in',\n",
       " 'conclusion,',\n",
       " 'the',\n",
       " 'use',\n",
       " 'of',\n",
       " 'less',\n",
       " 'cars',\n",
       " 'and',\n",
       " 'having',\n",
       " 'carfree',\n",
       " 'days,',\n",
       " 'have',\n",
       " 'had',\n",
       " 'a',\n",
       " 'big',\n",
       " 'impact',\n",
       " 'on',\n",
       " 'the',\n",
       " 'environment',\n",
       " 'of',\n",
       " 'cities',\n",
       " 'because,',\n",
       " 'it',\n",
       " 'is',\n",
       " 'cutting',\n",
       " 'down',\n",
       " 'the',\n",
       " 'air',\n",
       " 'pollution',\n",
       " 'that',\n",
       " 'the',\n",
       " 'cars',\n",
       " 'have',\n",
       " 'majorly',\n",
       " 'polluted,',\n",
       " 'it',\n",
       " 'has',\n",
       " 'aloud',\n",
       " 'countries',\n",
       " 'like',\n",
       " 'columbia',\n",
       " 'to',\n",
       " 'repair',\n",
       " 'sidewalks,',\n",
       " 'and',\n",
       " 'cut',\n",
       " 'down',\n",
       " 'traffic',\n",
       " 'jams.',\n",
       " 'limiting',\n",
       " 'the',\n",
       " 'use',\n",
       " 'of',\n",
       " 'cars',\n",
       " 'would',\n",
       " 'be',\n",
       " 'a',\n",
       " 'good',\n",
       " 'thing',\n",
       " 'for',\n",
       " 'america.',\n",
       " 'so',\n",
       " 'we',\n",
       " 'should',\n",
       " 'limit',\n",
       " 'the',\n",
       " 'use',\n",
       " 'of',\n",
       " 'cars',\n",
       " 'by',\n",
       " 'maybe',\n",
       " 'riding',\n",
       " 'a',\n",
       " 'bike,',\n",
       " 'or',\n",
       " 'maybe',\n",
       " 'walking',\n",
       " 'somewhere',\n",
       " 'that',\n",
       " \"isn't\",\n",
       " 'that',\n",
       " 'far',\n",
       " 'from',\n",
       " 'you',\n",
       " 'and',\n",
       " \"doesn't\",\n",
       " 'need',\n",
       " 'the',\n",
       " 'use',\n",
       " 'of',\n",
       " 'a',\n",
       " 'car',\n",
       " 'to',\n",
       " 'get',\n",
       " 'you',\n",
       " 'there.',\n",
       " 'to',\n",
       " 'me,',\n",
       " 'limiting',\n",
       " 'the',\n",
       " 'use',\n",
       " 'of',\n",
       " 'cars',\n",
       " 'might',\n",
       " 'be',\n",
       " 'a',\n",
       " 'good',\n",
       " 'thing',\n",
       " 'to',\n",
       " 'do.']"
      ]
     },
     "execution_count": 5,
     "metadata": {},
     "output_type": "execute_result"
    }
   ],
   "source": [
    "import re\n",
    "\n",
    "def clean_text_for_classification(text):\n",
    "    # 转为小写（有助于 CountVectorizer 特征稠密化）\n",
    "    text = text.lower()\n",
    "\n",
    "    # 替换换行与多空格（保留语义，但规范格式）\n",
    "    text = re.sub(r\"\\s+\", \" \", text)\n",
    "\n",
    "    # 去除不可打印字符和 HTML（如果有）\n",
    "    text = re.sub(r\"[^\\x00-\\x7F]\", \"\", text)\n",
    "    text = re.sub(r\"<.*?>\", \"\", text)\n",
    "\n",
    "    return text.strip().split()\n",
    "\n",
    "\n",
    "# 应用改进后的预处理\n",
    "df[\"text\"] = df[\"text\"].apply(clean_text_for_classification)\n",
    "df[\"text\"][0]"
   ]
  },
  {
   "cell_type": "markdown",
   "id": "07cacf37",
   "metadata": {
    "papermill": {
     "duration": 0.003568,
     "end_time": "2025-04-26T11:20:40.721726",
     "exception": false,
     "start_time": "2025-04-26T11:20:40.718158",
     "status": "completed"
    },
    "tags": []
   },
   "source": [
    "## 移除 stopwords"
   ]
  },
  {
   "cell_type": "code",
   "execution_count": 6,
   "id": "7fa5689a",
   "metadata": {
    "execution": {
     "iopub.execute_input": "2025-04-26T11:20:40.730691Z",
     "iopub.status.busy": "2025-04-26T11:20:40.730200Z",
     "iopub.status.idle": "2025-04-26T11:21:29.114421Z",
     "shell.execute_reply": "2025-04-26T11:21:29.113804Z"
    },
    "papermill": {
     "duration": 48.390306,
     "end_time": "2025-04-26T11:21:29.115889",
     "exception": false,
     "start_time": "2025-04-26T11:20:40.725583",
     "status": "completed"
    },
    "tags": []
   },
   "outputs": [
    {
     "name": "stdout",
     "output_type": "stream",
     "text": [
      "cars. cars have been around since they became famous in the 1900s, when henry ford created and built the first modelt. cars have played a major role in our every day lives since then. but now, people are starting to question if limiting car usage would be a good thing. to me, limiting the use of cars might be a good thing to do. in like matter of this, article, \"in german suburb, life goes on without cars,\" by elizabeth rosenthal states, how automobiles are the linchpin of suburbs, where middle class families from either shanghai or chicago tend to make their homes. experts say how this is a huge impediment to current efforts to reduce greenhouse gas emissions from tailpipe. passenger cars are responsible for 12 percent of greenhouse gas emissions in europe...and up to 50 percent in some carintensive areas in the united states. cars are the main reason for the greenhouse gas emissions because of a lot of people driving them around all the time getting where they need to go. article, \"paris bans driving due to smog,\" by robert duffer says, how paris, after days of nearrecord pollution, enforced a partial driving ban to clear the air of the global city. it also says, how on monday, motorist with evennumbered license plates were ordered to leave their cars at home or be fined a 22euro fine 31. the same order would be applied to oddnumbered plates the following day. cars are the reason for polluting entire cities like paris. this shows how bad cars can be because, of all the pollution that they can cause to an entire city. likewise, in the article, \"carfree day is spinning into a big hit in bogota,\" by andrew selsky says, how programs that's set to spread to other countries, millions of columbians hiked, biked, skated, or took the bus to work during a carfree day, leaving streets of this capital city eerily devoid of traffic jams. it was the third straight year cars have been banned with only buses and taxis permitted for the day without cars in the capital city of 7 million. people like the idea of having carfree days because, it allows them to lesson the pollution that cars put out of their exhaust from people driving all the time. the article also tells how parks and sports centers have bustled throughout the city uneven, pitted sidewalks have been replaced by broad, smooth sidewalks rushhour restrictions have dramatically cut traffic and new restaurants and upscale shopping districts have cropped up. having no cars has been good for the country of columbia because, it has aloud them to repair things that have needed repairs for a long time, traffic jams have gone down, and restaurants and shopping districts have popped up, all due to the fact of having less cars around. in conclusion, the use of less cars and having carfree days, have had a big impact on the environment of cities because, it is cutting down the air pollution that the cars have majorly polluted, it has aloud countries like columbia to repair sidewalks, and cut down traffic jams. limiting the use of cars would be a good thing for america. so we should limit the use of cars by maybe riding a bike, or maybe walking somewhere that isn't that far from you and doesn't need the use of a car to get you there. to me, limiting the use of cars might be a good thing to do.\n"
     ]
    }
   ],
   "source": [
    "import nltk\n",
    "from nltk.corpus import stopwords\n",
    "\n",
    "text=df['text']\n",
    "# nltk.download('stopwords')\n",
    "stop_words = set(stopwords.words('english'))\n",
    "# text=text.apply(lambda x : ' '.join([word for word in x if word not in stop_words]))\n",
    "text=text.apply(lambda x : ' '.join([word for word in x]))\n",
    "print(text[0])\n",
    "labels=df['generated']"
   ]
  },
  {
   "cell_type": "markdown",
   "id": "d03ca51b",
   "metadata": {
    "papermill": {
     "duration": 0.003863,
     "end_time": "2025-04-26T11:21:29.124189",
     "exception": false,
     "start_time": "2025-04-26T11:21:29.120326",
     "status": "completed"
    },
    "tags": []
   },
   "source": [
    "## 数据集划分"
   ]
  },
  {
   "cell_type": "code",
   "execution_count": 7,
   "id": "b56bc13d",
   "metadata": {
    "execution": {
     "iopub.execute_input": "2025-04-26T11:21:29.133126Z",
     "iopub.status.busy": "2025-04-26T11:21:29.132459Z",
     "iopub.status.idle": "2025-04-26T11:21:29.248250Z",
     "shell.execute_reply": "2025-04-26T11:21:29.247659Z"
    },
    "papermill": {
     "duration": 0.121831,
     "end_time": "2025-04-26T11:21:29.249774",
     "exception": false,
     "start_time": "2025-04-26T11:21:29.127943",
     "status": "completed"
    },
    "tags": []
   },
   "outputs": [],
   "source": [
    "from sklearn.model_selection import train_test_split\n",
    "# 先划分训练集和测试集\n",
    "X_train_full, X_test, y_train_full, y_test = train_test_split(\n",
    "    text, labels, test_size=0.1, random_state=42\n",
    ")\n",
    "\n",
    "# 再从训练集中划分出验证集\n",
    "X_train, X_val, y_train, y_val = train_test_split(\n",
    "    X_train_full, y_train_full, test_size=0.1, random_state=42  # 可根据需要调整验证集比例\n",
    ")"
   ]
  },
  {
   "cell_type": "markdown",
   "id": "b45369db",
   "metadata": {
    "papermill": {
     "duration": 0.003979,
     "end_time": "2025-04-26T11:21:29.258583",
     "exception": false,
     "start_time": "2025-04-26T11:21:29.254604",
     "status": "completed"
    },
    "tags": []
   },
   "source": [
    "## 文本向量化和拼接"
   ]
  },
  {
   "cell_type": "code",
   "execution_count": 8,
   "id": "3e733f39",
   "metadata": {},
   "outputs": [
    {
     "name": "stderr",
     "output_type": "stream",
     "text": [
      "2025-06-02 02:27:42.042323: I tensorflow/core/util/port.cc:113] oneDNN custom operations are on. You may see slightly different numerical results due to floating-point round-off errors from different computation orders. To turn them off, set the environment variable `TF_ENABLE_ONEDNN_OPTS=0`.\n",
      "2025-06-02 02:27:42.128504: I tensorflow/core/platform/cpu_feature_guard.cc:210] This TensorFlow binary is optimized to use available CPU instructions in performance-critical operations.\n",
      "To enable the following instructions: AVX2 AVX512F AVX512_VNNI FMA, in other operations, rebuild TensorFlow with the appropriate compiler flags.\n",
      "2025-06-02 02:27:44.767844: W tensorflow/compiler/tf2tensorrt/utils/py_utils.cc:38] TF-TRT Warning: Could not find TensorRT\n"
     ]
    },
    {
     "name": "stdout",
     "output_type": "stream",
     "text": [
      "✅ TensorFlow version: 2.16.1\n",
      "🖥️ Available GPUs: [PhysicalDevice(name='/physical_device:GPU:0', device_type='GPU'), PhysicalDevice(name='/physical_device:GPU:1', device_type='GPU'), PhysicalDevice(name='/physical_device:GPU:2', device_type='GPU'), PhysicalDevice(name='/physical_device:GPU:3', device_type='GPU'), PhysicalDevice(name='/physical_device:GPU:4', device_type='GPU'), PhysicalDevice(name='/physical_device:GPU:5', device_type='GPU'), PhysicalDevice(name='/physical_device:GPU:6', device_type='GPU'), PhysicalDevice(name='/physical_device:GPU:7', device_type='GPU')]\n",
      "✅ Matrix multiply done.\n"
     ]
    },
    {
     "name": "stderr",
     "output_type": "stream",
     "text": [
      "2025-06-02 02:27:49.032759: I tensorflow/core/common_runtime/gpu/gpu_device.cc:1928] Created device /job:localhost/replica:0/task:0/device:GPU:0 with 78548 MB memory:  -> device: 0, name: NVIDIA A800 80GB PCIe, pci bus id: 0000:34:00.0, compute capability: 8.0\n",
      "2025-06-02 02:27:49.034384: I tensorflow/core/common_runtime/gpu/gpu_device.cc:1928] Created device /job:localhost/replica:0/task:0/device:GPU:1 with 79068 MB memory:  -> device: 1, name: NVIDIA A800 80GB PCIe, pci bus id: 0000:35:00.0, compute capability: 8.0\n",
      "2025-06-02 02:27:49.037117: I tensorflow/core/common_runtime/gpu/gpu_device.cc:1928] Created device /job:localhost/replica:0/task:0/device:GPU:2 with 79069 MB memory:  -> device: 2, name: NVIDIA A800 80GB PCIe, pci bus id: 0000:36:00.0, compute capability: 8.0\n",
      "2025-06-02 02:27:49.039209: I tensorflow/core/common_runtime/gpu/gpu_device.cc:1928] Created device /job:localhost/replica:0/task:0/device:GPU:3 with 67932 MB memory:  -> device: 3, name: NVIDIA A800 80GB PCIe, pci bus id: 0000:37:00.0, compute capability: 8.0\n",
      "2025-06-02 02:27:49.040718: I tensorflow/core/common_runtime/gpu/gpu_device.cc:1928] Created device /job:localhost/replica:0/task:0/device:GPU:4 with 79077 MB memory:  -> device: 4, name: NVIDIA A800 80GB PCIe, pci bus id: 0000:9b:00.0, compute capability: 8.0\n",
      "2025-06-02 02:27:49.042231: I tensorflow/core/common_runtime/gpu/gpu_device.cc:1928] Created device /job:localhost/replica:0/task:0/device:GPU:5 with 79077 MB memory:  -> device: 5, name: NVIDIA A800 80GB PCIe, pci bus id: 0000:9c:00.0, compute capability: 8.0\n",
      "2025-06-02 02:27:49.043680: I tensorflow/core/common_runtime/gpu/gpu_device.cc:1928] Created device /job:localhost/replica:0/task:0/device:GPU:6 with 79077 MB memory:  -> device: 6, name: NVIDIA A800 80GB PCIe, pci bus id: 0000:9d:00.0, compute capability: 8.0\n",
      "2025-06-02 02:27:49.045164: I tensorflow/core/common_runtime/gpu/gpu_device.cc:1928] Created device /job:localhost/replica:0/task:0/device:GPU:7 with 79077 MB memory:  -> device: 7, name: NVIDIA A800 80GB PCIe, pci bus id: 0000:9e:00.0, compute capability: 8.0\n"
     ]
    }
   ],
   "source": [
    "import tensorflow as tf\n",
    "\n",
    "print(\"✅ TensorFlow version:\", tf.__version__)\n",
    "print(\"🖥️ Available GPUs:\", tf.config.list_physical_devices(\"GPU\"))\n",
    "\n",
    "# 简单矩阵乘法测试是否用 GPU\n",
    "with tf.device(\"/GPU:0\"):\n",
    "    a = tf.random.normal([1000, 1000])\n",
    "    b = tf.random.normal([1000, 1000])\n",
    "    c = tf.matmul(a, b)\n",
    "    print(\"✅ Matrix multiply done.\")"
   ]
  },
  {
   "cell_type": "code",
   "execution_count": 9,
   "id": "24bbd438",
   "metadata": {
    "execution": {
     "iopub.execute_input": "2025-04-26T11:21:29.267078Z",
     "iopub.status.busy": "2025-04-26T11:21:29.266860Z",
     "iopub.status.idle": "2025-04-26T11:22:27.201205Z",
     "shell.execute_reply": "2025-04-26T11:22:27.199214Z"
    },
    "papermill": {
     "duration": 57.940349,
     "end_time": "2025-04-26T11:22:27.202781",
     "exception": false,
     "start_time": "2025-04-26T11:21:29.262432",
     "status": "completed"
    },
    "tags": []
   },
   "outputs": [],
   "source": [
    "vectorized_layer = tf.keras.layers.TextVectorization(ragged=True, max_tokens=20000)\n",
    "vectorized_layer.adapt(X_train)\n",
    "\n",
    "train_sequence = vectorized_layer(X_train)\n",
    "val_sequence = vectorized_layer(X_val)\n",
    "test_sequence = vectorized_layer(X_test)\n",
    "\n",
    "train_padded = tf.keras.utils.pad_sequences(\n",
    "    train_sequence.numpy(),\n",
    "    maxlen=100,\n",
    "    padding=\"pre\",\n",
    "    truncating=\"pre\",\n",
    ")\n",
    "\n",
    "val_padded = tf.keras.utils.pad_sequences(\n",
    "    val_sequence.numpy(), maxlen=100, padding=\"pre\", truncating=\"pre\"\n",
    ")\n",
    "\n",
    "test_padded = tf.keras.utils.pad_sequences(\n",
    "    test_sequence.numpy(),\n",
    "    maxlen=100,\n",
    "    padding=\"pre\",\n",
    "    truncating=\"pre\",\n",
    ")"
   ]
  },
  {
   "cell_type": "code",
   "execution_count": 10,
   "id": "210ccf7b",
   "metadata": {
    "execution": {
     "iopub.execute_input": "2025-04-26T11:22:27.212266Z",
     "iopub.status.busy": "2025-04-26T11:22:27.212055Z",
     "iopub.status.idle": "2025-04-26T11:22:27.384947Z",
     "shell.execute_reply": "2025-04-26T11:22:27.384021Z"
    },
    "papermill": {
     "duration": 0.179164,
     "end_time": "2025-04-26T11:22:27.386563",
     "exception": false,
     "start_time": "2025-04-26T11:22:27.207399",
     "status": "completed"
    },
    "tags": []
   },
   "outputs": [],
   "source": [
    "X_train = tf.data.Dataset.from_tensor_slices(train_padded)\n",
    "X_test = tf.data.Dataset.from_tensor_slices(test_padded)\n",
    "\n",
    "X_val = tf.data.Dataset.from_tensor_slices(val_padded)\n",
    "y_val = tf.data.Dataset.from_tensor_slices(y_val)\n",
    "\n",
    "y_train = tf.data.Dataset.from_tensor_slices(y_train)\n",
    "y_test = tf.data.Dataset.from_tensor_slices(y_test)\n",
    "\n",
    "train_dataset = tf.data.Dataset.zip(X_train, y_train)\n",
    "val_dataset = tf.data.Dataset.zip((X_val, y_val))\n",
    "test_dataset = tf.data.Dataset.zip(X_test, y_test)\n",
    "\n",
    "train_dataset = (\n",
    "    train_dataset.cache().shuffle(50000).prefetch(tf.data.AUTOTUNE).batch(256)\n",
    ")\n",
    "val_dataset = val_dataset.cache().prefetch(tf.data.AUTOTUNE).batch(256)\n",
    "test_dataset = test_dataset.cache().prefetch(tf.data.AUTOTUNE).batch(256)"
   ]
  },
  {
   "cell_type": "markdown",
   "id": "513f31d7",
   "metadata": {
    "papermill": {
     "duration": 0.004632,
     "end_time": "2025-04-26T11:22:27.396040",
     "exception": false,
     "start_time": "2025-04-26T11:22:27.391408",
     "status": "completed"
    },
    "tags": []
   },
   "source": [
    "# 网络结构设计"
   ]
  },
  {
   "cell_type": "markdown",
   "id": "cbbf752d",
   "metadata": {
    "papermill": {
     "duration": 0.004295,
     "end_time": "2025-04-26T11:22:27.404897",
     "exception": false,
     "start_time": "2025-04-26T11:22:27.400602",
     "status": "completed"
    },
    "tags": []
   },
   "source": [
    "## 网络层"
   ]
  },
  {
   "cell_type": "code",
   "execution_count": 11,
   "id": "0133bb49",
   "metadata": {
    "execution": {
     "iopub.execute_input": "2025-04-26T11:22:27.415079Z",
     "iopub.status.busy": "2025-04-26T11:22:27.414585Z",
     "iopub.status.idle": "2025-04-26T11:22:28.565600Z",
     "shell.execute_reply": "2025-04-26T11:22:28.565042Z"
    },
    "papermill": {
     "duration": 1.157677,
     "end_time": "2025-04-26T11:22:28.566986",
     "exception": false,
     "start_time": "2025-04-26T11:22:27.409309",
     "status": "completed"
    },
    "tags": []
   },
   "outputs": [],
   "source": [
    "model = tf.keras.Sequential(\n",
    "    [\n",
    "        tf.keras.layers.Input(shape=(100,)),\n",
    "        tf.keras.layers.Embedding(\n",
    "            input_dim=20000,\n",
    "            output_dim=256,\n",
    "        ),\n",
    "        tf.keras.layers.SpatialDropout1D(0.2),  # 新增：增强泛化能力\n",
    "        tf.keras.layers.Conv1D(filters=256, kernel_size=3, activation=\"relu\", padding=\"same\"),\n",
    "        tf.keras.layers.Conv1D(filters=256, kernel_size=5, activation=\"relu\", padding=\"same\"),  # 新增：更宽感受野\n",
    "        tf.keras.layers.MaxPooling1D(pool_size=2),  # 新增：降低特征维度，提取重要信息\n",
    "        tf.keras.layers.Bidirectional(tf.keras.layers.LSTM(128, return_sequences=True)),\n",
    "        tf.keras.layers.LayerNormalization(),  # 新增：提高稳定性\n",
    "        tf.keras.layers.Bidirectional(tf.keras.layers.LSTM(128, return_sequences=True)),\n",
    "        tf.keras.layers.LayerNormalization(),\n",
    "        tf.keras.layers.Flatten(),\n",
    "        tf.keras.layers.Dense(512, activation=\"relu\"),\n",
    "        tf.keras.layers.Dropout(0.5),  # 新增：防止过拟合\n",
    "        tf.keras.layers.Dense(256, activation=\"relu\"),  # 新增：中间层提升非线性建模能力\n",
    "        tf.keras.layers.Dense(1, activation=\"sigmoid\"),\n",
    "    ]\n",
    ")\n",
    "\n",
    "model.compile(loss=\"binary_crossentropy\", optimizer=\"adam\", metrics=[\"accuracy\"])"
   ]
  },
  {
   "cell_type": "code",
   "execution_count": 12,
   "id": "24dfadf9",
   "metadata": {
    "execution": {
     "iopub.execute_input": "2025-04-26T11:22:28.576455Z",
     "iopub.status.busy": "2025-04-26T11:22:28.575912Z",
     "iopub.status.idle": "2025-04-26T11:22:28.590679Z",
     "shell.execute_reply": "2025-04-26T11:22:28.590019Z"
    },
    "papermill": {
     "duration": 0.020501,
     "end_time": "2025-04-26T11:22:28.591803",
     "exception": false,
     "start_time": "2025-04-26T11:22:28.571302",
     "status": "completed"
    },
    "tags": []
   },
   "outputs": [
    {
     "data": {
      "text/html": [
       "<pre style=\"white-space:pre;overflow-x:auto;line-height:normal;font-family:Menlo,'DejaVu Sans Mono',consolas,'Courier New',monospace\"><span style=\"font-weight: bold\">Model: \"sequential\"</span>\n",
       "</pre>\n"
      ],
      "text/plain": [
       "\u001b[1mModel: \"sequential\"\u001b[0m\n"
      ]
     },
     "metadata": {},
     "output_type": "display_data"
    },
    {
     "data": {
      "text/html": [
       "<pre style=\"white-space:pre;overflow-x:auto;line-height:normal;font-family:Menlo,'DejaVu Sans Mono',consolas,'Courier New',monospace\">┏━━━━━━━━━━━━━━━━━━━━━━━━━━━━━━━━━┳━━━━━━━━━━━━━━━━━━━━━━━━┳━━━━━━━━━━━━━━━┓\n",
       "┃<span style=\"font-weight: bold\"> Layer (type)                    </span>┃<span style=\"font-weight: bold\"> Output Shape           </span>┃<span style=\"font-weight: bold\">       Param # </span>┃\n",
       "┡━━━━━━━━━━━━━━━━━━━━━━━━━━━━━━━━━╇━━━━━━━━━━━━━━━━━━━━━━━━╇━━━━━━━━━━━━━━━┩\n",
       "│ embedding (<span style=\"color: #0087ff; text-decoration-color: #0087ff\">Embedding</span>)           │ (<span style=\"color: #00d7ff; text-decoration-color: #00d7ff\">None</span>, <span style=\"color: #00af00; text-decoration-color: #00af00\">100</span>, <span style=\"color: #00af00; text-decoration-color: #00af00\">256</span>)       │     <span style=\"color: #00af00; text-decoration-color: #00af00\">5,120,000</span> │\n",
       "├─────────────────────────────────┼────────────────────────┼───────────────┤\n",
       "│ spatial_dropout1d               │ (<span style=\"color: #00d7ff; text-decoration-color: #00d7ff\">None</span>, <span style=\"color: #00af00; text-decoration-color: #00af00\">100</span>, <span style=\"color: #00af00; text-decoration-color: #00af00\">256</span>)       │             <span style=\"color: #00af00; text-decoration-color: #00af00\">0</span> │\n",
       "│ (<span style=\"color: #0087ff; text-decoration-color: #0087ff\">SpatialDropout1D</span>)              │                        │               │\n",
       "├─────────────────────────────────┼────────────────────────┼───────────────┤\n",
       "│ conv1d (<span style=\"color: #0087ff; text-decoration-color: #0087ff\">Conv1D</span>)                 │ (<span style=\"color: #00d7ff; text-decoration-color: #00d7ff\">None</span>, <span style=\"color: #00af00; text-decoration-color: #00af00\">100</span>, <span style=\"color: #00af00; text-decoration-color: #00af00\">256</span>)       │       <span style=\"color: #00af00; text-decoration-color: #00af00\">196,864</span> │\n",
       "├─────────────────────────────────┼────────────────────────┼───────────────┤\n",
       "│ conv1d_1 (<span style=\"color: #0087ff; text-decoration-color: #0087ff\">Conv1D</span>)               │ (<span style=\"color: #00d7ff; text-decoration-color: #00d7ff\">None</span>, <span style=\"color: #00af00; text-decoration-color: #00af00\">100</span>, <span style=\"color: #00af00; text-decoration-color: #00af00\">256</span>)       │       <span style=\"color: #00af00; text-decoration-color: #00af00\">327,936</span> │\n",
       "├─────────────────────────────────┼────────────────────────┼───────────────┤\n",
       "│ max_pooling1d (<span style=\"color: #0087ff; text-decoration-color: #0087ff\">MaxPooling1D</span>)    │ (<span style=\"color: #00d7ff; text-decoration-color: #00d7ff\">None</span>, <span style=\"color: #00af00; text-decoration-color: #00af00\">50</span>, <span style=\"color: #00af00; text-decoration-color: #00af00\">256</span>)        │             <span style=\"color: #00af00; text-decoration-color: #00af00\">0</span> │\n",
       "├─────────────────────────────────┼────────────────────────┼───────────────┤\n",
       "│ bidirectional (<span style=\"color: #0087ff; text-decoration-color: #0087ff\">Bidirectional</span>)   │ (<span style=\"color: #00d7ff; text-decoration-color: #00d7ff\">None</span>, <span style=\"color: #00af00; text-decoration-color: #00af00\">50</span>, <span style=\"color: #00af00; text-decoration-color: #00af00\">256</span>)        │       <span style=\"color: #00af00; text-decoration-color: #00af00\">394,240</span> │\n",
       "├─────────────────────────────────┼────────────────────────┼───────────────┤\n",
       "│ layer_normalization             │ (<span style=\"color: #00d7ff; text-decoration-color: #00d7ff\">None</span>, <span style=\"color: #00af00; text-decoration-color: #00af00\">50</span>, <span style=\"color: #00af00; text-decoration-color: #00af00\">256</span>)        │           <span style=\"color: #00af00; text-decoration-color: #00af00\">512</span> │\n",
       "│ (<span style=\"color: #0087ff; text-decoration-color: #0087ff\">LayerNormalization</span>)            │                        │               │\n",
       "├─────────────────────────────────┼────────────────────────┼───────────────┤\n",
       "│ bidirectional_1 (<span style=\"color: #0087ff; text-decoration-color: #0087ff\">Bidirectional</span>) │ (<span style=\"color: #00d7ff; text-decoration-color: #00d7ff\">None</span>, <span style=\"color: #00af00; text-decoration-color: #00af00\">50</span>, <span style=\"color: #00af00; text-decoration-color: #00af00\">256</span>)        │       <span style=\"color: #00af00; text-decoration-color: #00af00\">394,240</span> │\n",
       "├─────────────────────────────────┼────────────────────────┼───────────────┤\n",
       "│ layer_normalization_1           │ (<span style=\"color: #00d7ff; text-decoration-color: #00d7ff\">None</span>, <span style=\"color: #00af00; text-decoration-color: #00af00\">50</span>, <span style=\"color: #00af00; text-decoration-color: #00af00\">256</span>)        │           <span style=\"color: #00af00; text-decoration-color: #00af00\">512</span> │\n",
       "│ (<span style=\"color: #0087ff; text-decoration-color: #0087ff\">LayerNormalization</span>)            │                        │               │\n",
       "├─────────────────────────────────┼────────────────────────┼───────────────┤\n",
       "│ flatten (<span style=\"color: #0087ff; text-decoration-color: #0087ff\">Flatten</span>)               │ (<span style=\"color: #00d7ff; text-decoration-color: #00d7ff\">None</span>, <span style=\"color: #00af00; text-decoration-color: #00af00\">12800</span>)          │             <span style=\"color: #00af00; text-decoration-color: #00af00\">0</span> │\n",
       "├─────────────────────────────────┼────────────────────────┼───────────────┤\n",
       "│ dense (<span style=\"color: #0087ff; text-decoration-color: #0087ff\">Dense</span>)                   │ (<span style=\"color: #00d7ff; text-decoration-color: #00d7ff\">None</span>, <span style=\"color: #00af00; text-decoration-color: #00af00\">512</span>)            │     <span style=\"color: #00af00; text-decoration-color: #00af00\">6,554,112</span> │\n",
       "├─────────────────────────────────┼────────────────────────┼───────────────┤\n",
       "│ dropout (<span style=\"color: #0087ff; text-decoration-color: #0087ff\">Dropout</span>)               │ (<span style=\"color: #00d7ff; text-decoration-color: #00d7ff\">None</span>, <span style=\"color: #00af00; text-decoration-color: #00af00\">512</span>)            │             <span style=\"color: #00af00; text-decoration-color: #00af00\">0</span> │\n",
       "├─────────────────────────────────┼────────────────────────┼───────────────┤\n",
       "│ dense_1 (<span style=\"color: #0087ff; text-decoration-color: #0087ff\">Dense</span>)                 │ (<span style=\"color: #00d7ff; text-decoration-color: #00d7ff\">None</span>, <span style=\"color: #00af00; text-decoration-color: #00af00\">256</span>)            │       <span style=\"color: #00af00; text-decoration-color: #00af00\">131,328</span> │\n",
       "├─────────────────────────────────┼────────────────────────┼───────────────┤\n",
       "│ dense_2 (<span style=\"color: #0087ff; text-decoration-color: #0087ff\">Dense</span>)                 │ (<span style=\"color: #00d7ff; text-decoration-color: #00d7ff\">None</span>, <span style=\"color: #00af00; text-decoration-color: #00af00\">1</span>)              │           <span style=\"color: #00af00; text-decoration-color: #00af00\">257</span> │\n",
       "└─────────────────────────────────┴────────────────────────┴───────────────┘\n",
       "</pre>\n"
      ],
      "text/plain": [
       "┏━━━━━━━━━━━━━━━━━━━━━━━━━━━━━━━━━┳━━━━━━━━━━━━━━━━━━━━━━━━┳━━━━━━━━━━━━━━━┓\n",
       "┃\u001b[1m \u001b[0m\u001b[1mLayer (type)                   \u001b[0m\u001b[1m \u001b[0m┃\u001b[1m \u001b[0m\u001b[1mOutput Shape          \u001b[0m\u001b[1m \u001b[0m┃\u001b[1m \u001b[0m\u001b[1m      Param #\u001b[0m\u001b[1m \u001b[0m┃\n",
       "┡━━━━━━━━━━━━━━━━━━━━━━━━━━━━━━━━━╇━━━━━━━━━━━━━━━━━━━━━━━━╇━━━━━━━━━━━━━━━┩\n",
       "│ embedding (\u001b[38;5;33mEmbedding\u001b[0m)           │ (\u001b[38;5;45mNone\u001b[0m, \u001b[38;5;34m100\u001b[0m, \u001b[38;5;34m256\u001b[0m)       │     \u001b[38;5;34m5,120,000\u001b[0m │\n",
       "├─────────────────────────────────┼────────────────────────┼───────────────┤\n",
       "│ spatial_dropout1d               │ (\u001b[38;5;45mNone\u001b[0m, \u001b[38;5;34m100\u001b[0m, \u001b[38;5;34m256\u001b[0m)       │             \u001b[38;5;34m0\u001b[0m │\n",
       "│ (\u001b[38;5;33mSpatialDropout1D\u001b[0m)              │                        │               │\n",
       "├─────────────────────────────────┼────────────────────────┼───────────────┤\n",
       "│ conv1d (\u001b[38;5;33mConv1D\u001b[0m)                 │ (\u001b[38;5;45mNone\u001b[0m, \u001b[38;5;34m100\u001b[0m, \u001b[38;5;34m256\u001b[0m)       │       \u001b[38;5;34m196,864\u001b[0m │\n",
       "├─────────────────────────────────┼────────────────────────┼───────────────┤\n",
       "│ conv1d_1 (\u001b[38;5;33mConv1D\u001b[0m)               │ (\u001b[38;5;45mNone\u001b[0m, \u001b[38;5;34m100\u001b[0m, \u001b[38;5;34m256\u001b[0m)       │       \u001b[38;5;34m327,936\u001b[0m │\n",
       "├─────────────────────────────────┼────────────────────────┼───────────────┤\n",
       "│ max_pooling1d (\u001b[38;5;33mMaxPooling1D\u001b[0m)    │ (\u001b[38;5;45mNone\u001b[0m, \u001b[38;5;34m50\u001b[0m, \u001b[38;5;34m256\u001b[0m)        │             \u001b[38;5;34m0\u001b[0m │\n",
       "├─────────────────────────────────┼────────────────────────┼───────────────┤\n",
       "│ bidirectional (\u001b[38;5;33mBidirectional\u001b[0m)   │ (\u001b[38;5;45mNone\u001b[0m, \u001b[38;5;34m50\u001b[0m, \u001b[38;5;34m256\u001b[0m)        │       \u001b[38;5;34m394,240\u001b[0m │\n",
       "├─────────────────────────────────┼────────────────────────┼───────────────┤\n",
       "│ layer_normalization             │ (\u001b[38;5;45mNone\u001b[0m, \u001b[38;5;34m50\u001b[0m, \u001b[38;5;34m256\u001b[0m)        │           \u001b[38;5;34m512\u001b[0m │\n",
       "│ (\u001b[38;5;33mLayerNormalization\u001b[0m)            │                        │               │\n",
       "├─────────────────────────────────┼────────────────────────┼───────────────┤\n",
       "│ bidirectional_1 (\u001b[38;5;33mBidirectional\u001b[0m) │ (\u001b[38;5;45mNone\u001b[0m, \u001b[38;5;34m50\u001b[0m, \u001b[38;5;34m256\u001b[0m)        │       \u001b[38;5;34m394,240\u001b[0m │\n",
       "├─────────────────────────────────┼────────────────────────┼───────────────┤\n",
       "│ layer_normalization_1           │ (\u001b[38;5;45mNone\u001b[0m, \u001b[38;5;34m50\u001b[0m, \u001b[38;5;34m256\u001b[0m)        │           \u001b[38;5;34m512\u001b[0m │\n",
       "│ (\u001b[38;5;33mLayerNormalization\u001b[0m)            │                        │               │\n",
       "├─────────────────────────────────┼────────────────────────┼───────────────┤\n",
       "│ flatten (\u001b[38;5;33mFlatten\u001b[0m)               │ (\u001b[38;5;45mNone\u001b[0m, \u001b[38;5;34m12800\u001b[0m)          │             \u001b[38;5;34m0\u001b[0m │\n",
       "├─────────────────────────────────┼────────────────────────┼───────────────┤\n",
       "│ dense (\u001b[38;5;33mDense\u001b[0m)                   │ (\u001b[38;5;45mNone\u001b[0m, \u001b[38;5;34m512\u001b[0m)            │     \u001b[38;5;34m6,554,112\u001b[0m │\n",
       "├─────────────────────────────────┼────────────────────────┼───────────────┤\n",
       "│ dropout (\u001b[38;5;33mDropout\u001b[0m)               │ (\u001b[38;5;45mNone\u001b[0m, \u001b[38;5;34m512\u001b[0m)            │             \u001b[38;5;34m0\u001b[0m │\n",
       "├─────────────────────────────────┼────────────────────────┼───────────────┤\n",
       "│ dense_1 (\u001b[38;5;33mDense\u001b[0m)                 │ (\u001b[38;5;45mNone\u001b[0m, \u001b[38;5;34m256\u001b[0m)            │       \u001b[38;5;34m131,328\u001b[0m │\n",
       "├─────────────────────────────────┼────────────────────────┼───────────────┤\n",
       "│ dense_2 (\u001b[38;5;33mDense\u001b[0m)                 │ (\u001b[38;5;45mNone\u001b[0m, \u001b[38;5;34m1\u001b[0m)              │           \u001b[38;5;34m257\u001b[0m │\n",
       "└─────────────────────────────────┴────────────────────────┴───────────────┘\n"
      ]
     },
     "metadata": {},
     "output_type": "display_data"
    },
    {
     "data": {
      "text/html": [
       "<pre style=\"white-space:pre;overflow-x:auto;line-height:normal;font-family:Menlo,'DejaVu Sans Mono',consolas,'Courier New',monospace\"><span style=\"font-weight: bold\"> Total params: </span><span style=\"color: #00af00; text-decoration-color: #00af00\">13,120,001</span> (50.05 MB)\n",
       "</pre>\n"
      ],
      "text/plain": [
       "\u001b[1m Total params: \u001b[0m\u001b[38;5;34m13,120,001\u001b[0m (50.05 MB)\n"
      ]
     },
     "metadata": {},
     "output_type": "display_data"
    },
    {
     "data": {
      "text/html": [
       "<pre style=\"white-space:pre;overflow-x:auto;line-height:normal;font-family:Menlo,'DejaVu Sans Mono',consolas,'Courier New',monospace\"><span style=\"font-weight: bold\"> Trainable params: </span><span style=\"color: #00af00; text-decoration-color: #00af00\">13,120,001</span> (50.05 MB)\n",
       "</pre>\n"
      ],
      "text/plain": [
       "\u001b[1m Trainable params: \u001b[0m\u001b[38;5;34m13,120,001\u001b[0m (50.05 MB)\n"
      ]
     },
     "metadata": {},
     "output_type": "display_data"
    },
    {
     "data": {
      "text/html": [
       "<pre style=\"white-space:pre;overflow-x:auto;line-height:normal;font-family:Menlo,'DejaVu Sans Mono',consolas,'Courier New',monospace\"><span style=\"font-weight: bold\"> Non-trainable params: </span><span style=\"color: #00af00; text-decoration-color: #00af00\">0</span> (0.00 B)\n",
       "</pre>\n"
      ],
      "text/plain": [
       "\u001b[1m Non-trainable params: \u001b[0m\u001b[38;5;34m0\u001b[0m (0.00 B)\n"
      ]
     },
     "metadata": {},
     "output_type": "display_data"
    }
   ],
   "source": [
    "model.summary()"
   ]
  },
  {
   "cell_type": "markdown",
   "id": "2ffcac99",
   "metadata": {
    "papermill": {
     "duration": 0.004166,
     "end_time": "2025-04-26T11:22:28.623192",
     "exception": false,
     "start_time": "2025-04-26T11:22:28.619026",
     "status": "completed"
    },
    "tags": []
   },
   "source": [
    "## 训练"
   ]
  },
  {
   "cell_type": "code",
   "execution_count": 13,
   "id": "66a0843c",
   "metadata": {
    "execution": {
     "iopub.execute_input": "2025-04-26T11:22:28.633019Z",
     "iopub.status.busy": "2025-04-26T11:22:28.632476Z",
     "iopub.status.idle": "2025-04-26T11:26:08.135892Z",
     "shell.execute_reply": "2025-04-26T11:26:08.135319Z"
    },
    "papermill": {
     "duration": 219.509353,
     "end_time": "2025-04-26T11:26:08.136966",
     "exception": false,
     "start_time": "2025-04-26T11:22:28.627613",
     "status": "completed"
    },
    "tags": []
   },
   "outputs": [
    {
     "name": "stdout",
     "output_type": "stream",
     "text": [
      "Epoch 1/15\n"
     ]
    },
    {
     "name": "stderr",
     "output_type": "stream",
     "text": [
      "2025-06-02 02:28:49.745427: I external/local_xla/xla/stream_executor/cuda/cuda_dnn.cc:465] Loaded cuDNN version 8907\n"
     ]
    },
    {
     "name": "stdout",
     "output_type": "stream",
     "text": [
      "\u001b[1m1542/1542\u001b[0m \u001b[32m━━━━━━━━━━━━━━━━━━━━\u001b[0m\u001b[37m\u001b[0m \u001b[1m41s\u001b[0m 22ms/step - accuracy: 0.7869 - loss: 0.5168 - val_accuracy: 0.9835 - val_loss: 0.0777\n",
      "Epoch 2/15\n",
      "\u001b[1m1542/1542\u001b[0m \u001b[32m━━━━━━━━━━━━━━━━━━━━\u001b[0m\u001b[37m\u001b[0m \u001b[1m35s\u001b[0m 22ms/step - accuracy: 0.9910 - loss: 0.0324 - val_accuracy: 0.9942 - val_loss: 0.0192\n",
      "Epoch 3/15\n",
      "\u001b[1m1542/1542\u001b[0m \u001b[32m━━━━━━━━━━━━━━━━━━━━\u001b[0m\u001b[37m\u001b[0m \u001b[1m36s\u001b[0m 23ms/step - accuracy: 0.9947 - loss: 0.0186 - val_accuracy: 0.9958 - val_loss: 0.0156\n",
      "Epoch 4/15\n",
      "\u001b[1m1542/1542\u001b[0m \u001b[32m━━━━━━━━━━━━━━━━━━━━\u001b[0m\u001b[37m\u001b[0m \u001b[1m34s\u001b[0m 22ms/step - accuracy: 0.9964 - loss: 0.0144 - val_accuracy: 0.9952 - val_loss: 0.0174\n",
      "Epoch 5/15\n",
      "\u001b[1m1542/1542\u001b[0m \u001b[32m━━━━━━━━━━━━━━━━━━━━\u001b[0m\u001b[37m\u001b[0m \u001b[1m34s\u001b[0m 22ms/step - accuracy: 0.9969 - loss: 0.0109 - val_accuracy: 0.9953 - val_loss: 0.0158\n",
      "Epoch 5: early stopping\n",
      "Restoring model weights from the end of the best epoch: 3.\n",
      "✅ 模型已保存到 model_output/lstm_model.keras\n"
     ]
    }
   ],
   "source": [
    "import os\n",
    "\n",
    "es=tf.keras.callbacks.EarlyStopping(\n",
    "    monitor='val_accuracy',\n",
    "    patience=2,\n",
    "    verbose=1,\n",
    "    restore_best_weights=True,\n",
    ")\n",
    "\n",
    "history = model.fit(\n",
    "    train_dataset,\n",
    "    epochs=15,\n",
    "    validation_data=val_dataset,\n",
    "    callbacks=[\n",
    "        es,\n",
    "    ],\n",
    ")\n",
    "\n",
    "os.makedirs(\"model_output\", exist_ok=True)\n",
    "# 保存模型（保存整个模型结构 + 参数）\n",
    "model.save(\"model_output/lstm_model.keras\")\n",
    "\n",
    "print(\"✅ 模型已保存到 model_output/lstm_model.keras\")"
   ]
  },
  {
   "cell_type": "markdown",
   "id": "27c0131b",
   "metadata": {
    "papermill": {
     "duration": 0.149473,
     "end_time": "2025-04-26T11:26:08.433723",
     "exception": false,
     "start_time": "2025-04-26T11:26:08.284250",
     "status": "completed"
    },
    "tags": []
   },
   "source": [
    "# 模型评估"
   ]
  },
  {
   "cell_type": "markdown",
   "id": "f3f28506",
   "metadata": {
    "papermill": {
     "duration": 0.144524,
     "end_time": "2025-04-26T11:26:08.749475",
     "exception": false,
     "start_time": "2025-04-26T11:26:08.604951",
     "status": "completed"
    },
    "tags": []
   },
   "source": [
    "## F1 score"
   ]
  },
  {
   "cell_type": "code",
   "execution_count": 14,
   "id": "c4b4c819",
   "metadata": {
    "execution": {
     "iopub.execute_input": "2025-04-26T11:26:09.085802Z",
     "iopub.status.busy": "2025-04-26T11:26:09.085509Z",
     "iopub.status.idle": "2025-04-26T11:26:12.945734Z",
     "shell.execute_reply": "2025-04-26T11:26:12.944816Z"
    },
    "papermill": {
     "duration": 4.055128,
     "end_time": "2025-04-26T11:26:12.947078",
     "exception": false,
     "start_time": "2025-04-26T11:26:08.891950",
     "status": "completed"
    },
    "tags": []
   },
   "outputs": [
    {
     "name": "stdout",
     "output_type": "stream",
     "text": [
      "\u001b[1m191/191\u001b[0m \u001b[32m━━━━━━━━━━━━━━━━━━━━\u001b[0m\u001b[37m\u001b[0m \u001b[1m2s\u001b[0m 9ms/step\n",
      "Accuracy: 99.66%\n",
      "\n",
      "              precision    recall  f1-score   support\n",
      "\n",
      "         0.0       1.00      1.00      1.00     30496\n",
      "         1.0       1.00      0.99      1.00     18228\n",
      "\n",
      "    accuracy                           1.00     48724\n",
      "   macro avg       1.00      1.00      1.00     48724\n",
      "weighted avg       1.00      1.00      1.00     48724\n",
      "\n"
     ]
    },
    {
     "name": "stderr",
     "output_type": "stream",
     "text": [
      "2025-06-02 02:31:47.033632: W tensorflow/core/framework/local_rendezvous.cc:404] Local rendezvous is aborting with status: OUT_OF_RANGE: End of sequence\n"
     ]
    }
   ],
   "source": [
    "from sklearn.metrics import accuracy_score, classification_report\n",
    "\n",
    "y_pred = model.predict(test_dataset)\n",
    "y_pred = (y_pred > 0.5).astype(int)\n",
    "y_test_np = np.concatenate([y for x, y in test_dataset], axis=0)\n",
    "\n",
    "accuracy = accuracy_score(y_test_np, y_pred)\n",
    "report = classification_report(y_test_np, y_pred)\n",
    "\n",
    "print(f\"Accuracy: {accuracy * 100:.2f}%\\n\")\n",
    "print(report)"
   ]
  },
  {
   "cell_type": "markdown",
   "id": "ed19ad80",
   "metadata": {
    "papermill": {
     "duration": 0.143716,
     "end_time": "2025-04-26T11:26:13.238674",
     "exception": false,
     "start_time": "2025-04-26T11:26:13.094958",
     "status": "completed"
    },
    "tags": []
   },
   "source": [
    "## Confusion Matrix"
   ]
  },
  {
   "cell_type": "code",
   "execution_count": 15,
   "id": "16b8bffc",
   "metadata": {
    "execution": {
     "iopub.execute_input": "2025-04-26T11:26:13.532212Z",
     "iopub.status.busy": "2025-04-26T11:26:13.531939Z",
     "iopub.status.idle": "2025-04-26T11:26:13.764671Z",
     "shell.execute_reply": "2025-04-26T11:26:13.763995Z"
    },
    "papermill": {
     "duration": 0.382557,
     "end_time": "2025-04-26T11:26:13.765850",
     "exception": false,
     "start_time": "2025-04-26T11:26:13.383293",
     "status": "completed"
    },
    "tags": []
   },
   "outputs": [
    {
     "data": {
      "image/png": "[encoded data removed]",
      "text/plain": [
       "<Figure size 800x600 with 2 Axes>"
      ]
     },
     "metadata": {},
     "output_type": "display_data"
    }
   ],
   "source": [
    "\n",
    "from sklearn.metrics import confusion_matrix\n",
    "import seaborn as sns\n",
    "\n",
    "cm = confusion_matrix(y_test_np, y_pred)\n",
    "\n",
    "plt.figure(figsize=(8, 6))\n",
    "sns.heatmap(cm, annot=True, fmt='d', cmap='Blues')\n",
    "plt.title('Confusion Matrix')\n",
    "plt.xlabel('Predicted Label')\n",
    "plt.ylabel('True Label')\n",
    "plt.show()"
   ]
  },
  {
   "cell_type": "markdown",
   "id": "018de7af",
   "metadata": {
    "execution": {
     "iopub.execute_input": "2025-04-26T10:45:10.383019Z",
     "iopub.status.busy": "2025-04-26T10:45:10.382749Z"
    },
    "papermill": {
     "duration": 0.147711,
     "end_time": "2025-04-26T11:26:14.066620",
     "exception": false,
     "start_time": "2025-04-26T11:26:13.918909",
     "status": "completed"
    },
    "tags": []
   },
   "source": [
    "# 应用：AI 文本检测"
   ]
  },
  {
   "cell_type": "code",
   "execution_count": 16,
   "id": "debd7ebb",
   "metadata": {
    "execution": {
     "iopub.execute_input": "2025-04-26T11:26:14.410337Z",
     "iopub.status.busy": "2025-04-26T11:26:14.410059Z",
     "iopub.status.idle": "2025-04-26T11:26:14.413472Z",
     "shell.execute_reply": "2025-04-26T11:26:14.412974Z"
    },
    "papermill": {
     "duration": 0.202114,
     "end_time": "2025-04-26T11:26:14.414553",
     "exception": false,
     "start_time": "2025-04-26T11:26:14.212439",
     "status": "completed"
    },
    "tags": []
   },
   "outputs": [
    {
     "name": "stdout",
     "output_type": "stream",
     "text": [
      "\u001b[1m1/1\u001b[0m \u001b[32m━━━━━━━━━━━━━━━━━━━━\u001b[0m\u001b[37m\u001b[0m \u001b[1m0s\u001b[0m 439ms/step\n",
      "Predicted Label: AI generated\n"
     ]
    }
   ],
   "source": [
    "from tensorflow.keras.models import load_model\n",
    "\n",
    "text_to_predict = input(\"Enter the text to predict: \")\n",
    "\n",
    "# Preprocess the input text\n",
    "text_to_predict = str(text_to_predict).lower().split()\n",
    "# nltk.download('stopwords', quiet=True)\n",
    "# stop_words = set(stopwords.words('english'))\n",
    "text_to_predict = ' '.join([word for word in text_to_predict if word not in stop_words])\n",
    "\n",
    "# Vectorize the input text\n",
    "sequence = vectorized_layer([text_to_predict])\n",
    "\n",
    "# Pad the sequence\n",
    "padded_sequence = tf.keras.utils.pad_sequences(\n",
    "    sequence.numpy(),\n",
    "    maxlen=100,\n",
    "    padding='pre',\n",
    "    truncating='pre'\n",
    ")\n",
    "\n",
    "# 加载训练好的模型\n",
    "model = load_model(\"model_output/lstm_model.keras\")\n",
    "\n",
    "# Make the prediction\n",
    "prediction = model.predict(padded_sequence)\n",
    "\n",
    "# Interpret the prediction\n",
    "if prediction[0][0] > 0.5:\n",
    "    print(\"Predicted Label: AI generated\")\n",
    "else:\n",
    "    print(\"Predicted Label: Human written\")"
   ]
  }
 ],
 "metadata": {
  "kaggle": {
   "accelerator": "gpu",
   "dataSources": [
    {
     "datasetId": 4288635,
     "sourceId": 7379779,
     "sourceType": "datasetVersion"
    }
   ],
   "dockerImageVersionId": 31012,
   "isGpuEnabled": true,
   "isInternetEnabled": true,
   "language": "python",
   "sourceType": "notebook"
  },
  "kernelspec": {
   "display_name": "datascience",
   "language": "python",
   "name": "python3"
  },
  "language_info": {
   "codemirror_mode": {
    "name": "ipython",
    "version": 3
   },
   "file_extension": ".py",
   "mimetype": "text/x-python",
   "name": "python",
   "nbconvert_exporter": "python",
   "pygments_lexer": "ipython3",
   "version": "3.12.9"
  },
  "papermill": {
   "default_parameters": {},
   "duration": 384.600238,
   "end_time": "2025-04-26T11:26:18.711486",
   "environment_variables": {},
   "exception": null,
   "input_path": "__notebook__.ipynb",
   "output_path": "__notebook__.ipynb",
   "parameters": {},
   "start_time": "2025-04-26T11:19:54.111248",
   "version": "2.6.0"
  }
 },
 "nbformat": 4,
 "nbformat_minor": 5
}
